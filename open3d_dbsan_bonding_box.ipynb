{
 "cells": [
  {
   "cell_type": "code",
   "execution_count": null,
   "id": "7e4481d6",
   "metadata": {},
   "outputs": [],
   "source": [
    "import numpy as np\n",
    "import matplotlib.pyplot as plt\n",
    "from mpl_toolkits import mplot3d\n",
    "from sklearn.cluster import KMeans\n",
    "from sklearn.cluster import DBSCAN"
   ]
  },
  {
   "cell_type": "code",
   "execution_count": null,
   "id": "f602fd6a",
   "metadata": {},
   "outputs": [],
   "source": [
    "import pandas as pd"
   ]
  },
  {
   "cell_type": "code",
   "execution_count": null,
   "id": "61fbb8b1",
   "metadata": {},
   "outputs": [],
   "source": [
    "dataset = pd.read_csv('test_new.csv')"
   ]
  },
  {
   "cell_type": "code",
   "execution_count": null,
   "id": "bd1cc542",
   "metadata": {},
   "outputs": [],
   "source": [
    "dataset.head(100)"
   ]
  },
  {
   "cell_type": "code",
   "execution_count": null,
   "id": "a3fe64d6",
   "metadata": {},
   "outputs": [],
   "source": [
    "x = np.array(dataset['X'])\n",
    "y = np.array(dataset['Y'])\n",
    "z = np.array(dataset['Z'])\n",
    "r = np.array(dataset['Red'])\n",
    "g = np.array(dataset['Green'])\n",
    "b = np.array(dataset['Blue'])"
   ]
  },
  {
   "cell_type": "code",
   "execution_count": null,
   "id": "589d565c",
   "metadata": {},
   "outputs": [],
   "source": [
    "x.shape"
   ]
  },
  {
   "cell_type": "code",
   "execution_count": null,
   "id": "877e5d26",
   "metadata": {},
   "outputs": [],
   "source": [
    "y.shape"
   ]
  },
  {
   "cell_type": "code",
   "execution_count": null,
   "id": "13135670",
   "metadata": {},
   "outputs": [],
   "source": [
    "z.shape"
   ]
  },
  {
   "cell_type": "code",
   "execution_count": null,
   "id": "15eecc1d",
   "metadata": {},
   "outputs": [],
   "source": [
    "xyz=np.column_stack((x,y,z))\n",
    "rgb=np.column_stack((r,g,b))\n"
   ]
  },
  {
   "cell_type": "code",
   "execution_count": null,
   "id": "6fd0feef",
   "metadata": {},
   "outputs": [],
   "source": [
    "xyz"
   ]
  },
  {
   "cell_type": "code",
   "execution_count": null,
   "id": "a1209be8",
   "metadata": {},
   "outputs": [],
   "source": [
    "import open3d as o3d"
   ]
  },
  {
   "cell_type": "code",
   "execution_count": null,
   "id": "56285d3b",
   "metadata": {},
   "outputs": [],
   "source": [
    "pcd = o3d.geometry.PointCloud()\n",
    "pcd.points = o3d.utility.Vector3dVector(xyz)\n",
    "o3d.io.write_point_cloud(\"test_new_pcd.ply\", pcd)"
   ]
  },
  {
   "cell_type": "code",
   "execution_count": null,
   "id": "13bab09a",
   "metadata": {},
   "outputs": [],
   "source": [
    "# Load saved point cloud and visualize it\n",
    "pcd_load = o3d.io.read_point_cloud(\"test_new_pcd.ply\")\n",
    "\n",
    "# Convert Open3D.o3d.geometry.PointCloud to numpy array\n",
    "xyz_load = np.asarray(pcd_load.points)\n",
    "print('xyz_load')\n",
    "print(xyz_load)\n",
    "o3d.visualization.draw_geometries([pcd_load])"
   ]
  },
  {
   "cell_type": "code",
   "execution_count": null,
   "id": "eaf5b90c",
   "metadata": {},
   "outputs": [],
   "source": [
    "'''\n",
    "pcd = o3d.io.read_point_cloud(\"test_new_pcd.ply\")\n",
    "print(pcd)\n",
    "print(np.asarray(pcd.points))\n",
    "o3d.visualization.draw_geometries([pcd],\n",
    "                                  zoom=0.3412,\n",
    "                                  front=[0.4257, -0.2125, -0.8795],\n",
    "                                  lookat=[2.6172, 2.0475, 1.532],\n",
    "                                  up=[-0.0694, -0.9768, 0.2024])\n",
    "                                  \n",
    "'''"
   ]
  },
  {
   "cell_type": "code",
   "execution_count": null,
   "id": "af17b195",
   "metadata": {},
   "outputs": [],
   "source": [
    "pcd = o3d.io.read_point_cloud(\"test_new_pcd.ply\")\n",
    "\n",
    "with o3d.utility.VerbosityContextManager(\n",
    "        o3d.utility.VerbosityLevel.Debug) as cm:\n",
    "    labels = np.array(\n",
    "        pcd.cluster_dbscan(eps=0.02, min_points=10, print_progress=True))\n",
    "\n",
    "max_label = labels.max()\n",
    "print(f\"point cloud has {max_label + 1} clusters\")\n",
    "colors = plt.get_cmap(\"tab20\")(labels / (max_label if max_label > 0 else 1))\n",
    "colors[labels < 0] = 0\n",
    "pcd.colors = o3d.utility.Vector3dVector(colors[:, :3])\n",
    "o3d.visualization.draw_geometries([pcd],\n",
    "                                  zoom=0.455,\n",
    "                                  front=[-0.4999, -0.1659, -0.8499],\n",
    "                                  lookat=[2.1813, 2.0619, 2.0999],\n",
    "                                  up=[0.1204, -0.9852, 0.1215])"
   ]
  },
  {
   "cell_type": "code",
   "execution_count": null,
   "id": "077aade6",
   "metadata": {},
   "outputs": [],
   "source": [
    "print(\"Testing kdtree in Open3D...\")\n",
    "print(\"Load a point cloud and paint it gray.\")\n",
    "pcd = o3d.io.read_point_cloud(\"test_new_pcd.ply\")\n",
    "pcd.paint_uniform_color([0.5, 0.5, 0.5])\n",
    "pcd_tree = o3d.geometry.KDTreeFlann(pcd)"
   ]
  },
  {
   "cell_type": "code",
   "execution_count": null,
   "id": "02c814b4",
   "metadata": {},
   "outputs": [],
   "source": [
    "print(\"Paint the 1500th point red.\")\n",
    "pcd.colors[150] = [1, 0, 0]"
   ]
  },
  {
   "cell_type": "code",
   "execution_count": null,
   "id": "f0ace137",
   "metadata": {},
   "outputs": [],
   "source": [
    "print(\"Find its 200 nearest neighbors, and paint them blue.\")\n",
    "[k, idx, _] = pcd_tree.search_knn_vector_3d(pcd.points[150], 200)\n",
    "np.asarray(pcd.colors)[idx[1:], :] = [0, 0, 1]"
   ]
  },
  {
   "cell_type": "code",
   "execution_count": null,
   "id": "3cefc3c5",
   "metadata": {},
   "outputs": [],
   "source": [
    "print(\"Find its neighbors with distance less than 0.2, and paint them green.\")\n",
    "[k, idx, _] = pcd_tree.search_radius_vector_3d(pcd.points[1500], 0.2)\n",
    "np.asarray(pcd.colors)[idx[1:], :] = [0, 1, 0]"
   ]
  },
  {
   "cell_type": "code",
   "execution_count": null,
   "id": "74ada030",
   "metadata": {},
   "outputs": [],
   "source": [
    "print(\"Visualize the point cloud.\")\n",
    "o3d.visualization.draw_geometries([pcd])"
   ]
  },
  {
   "cell_type": "code",
   "execution_count": null,
   "id": "e1554b41",
   "metadata": {},
   "outputs": [],
   "source": [
    "%matplotlib inline\n",
    "import open3d as o3d\n",
    "#o3d.visualization.webrtc_server.enable_webrtc()\n",
    "if __name__ == \"__main__\":\n",
    "    sample_ply_data = o3d.data.PLYPointCloud()\n",
    "    pcd = o3d.io.read_point_cloud(\"test_new_pcd.ply\")\n",
    "    # Flip it, otherwise the pointcloud will be upside down.\n",
    "    pcd.transform([[1, 0, 0, 0], [0, -1, 0, 0], [0, 0, -1, 0], [0, 0, 0, 1]])\n",
    "    print(pcd)\n",
    "    axis_aligned_bounding_box = pcd.get_axis_aligned_bounding_box()\n",
    "    axis_aligned_bounding_box.color = (1, 0, 0)\n",
    "    oriented_bounding_box = pcd.get_oriented_bounding_box()\n",
    "    oriented_bounding_box.color = (0, 1, 0)\n",
    "    print(\n",
    "        \"Displaying axis_aligned_bounding_box in red and oriented bounding box in green ...\"\n",
    "    )\n",
    "    o3d.visualization.draw_geometries(\n",
    "        [pcd, axis_aligned_bounding_box, oriented_bounding_box])"
   ]
  },
  {
   "cell_type": "code",
   "execution_count": null,
   "id": "90837034",
   "metadata": {},
   "outputs": [
    {
     "name": "stdout",
     "output_type": "stream",
     "text": [
      "[Open3D DEBUG] Precompute neighbors.\n",
      "[Open3D DEBUG] Done Precompute neighbors.\n",
      "[Open3D DEBUG] Compute Clusters\n",
      "[Open3D DEBUG] Done Compute Clusters: 85355\n",
      "point cloud has 85355 clusters\n"
     ]
    }
   ],
   "source": [
    "import open3d as o3d\n",
    "import numpy as np\n",
    "import matplotlib.pyplot as plt\n",
    "\n",
    "\n",
    "if __name__ == \"__main__\":\n",
    "    sample_ply_data = o3d.data.PLYPointCloud()\n",
    "    pcd = o3d.io.read_point_cloud(\"test_new_pcd.ply\")\n",
    "    # Flip it, otherwise the pointcloud will be upside down.\n",
    "    pcd.transform([[1, 0, 0, 0], [0, -1, 0, 0], [0, 0, -1, 0], [0, 0, 0, 1]])\n",
    "\n",
    "    with o3d.utility.VerbosityContextManager(\n",
    "            o3d.utility.VerbosityLevel.Debug) as cm:\n",
    "        labels = np.array(\n",
    "            pcd.cluster_dbscan(eps=0.5, min_points=5, print_progress=True))\n",
    "\n",
    "    max_label = labels.max()\n",
    "    print(f\"point cloud has {max_label + 1} clusters\")\n",
    "    colors = plt.get_cmap(\"tab20\")(labels / (max_label if max_label > 0 else 1))\n",
    "    #colors[labels < 0] = 0\n",
    "    print(labels)\n",
    "    pcd.colors = o3d.utility.Vector3dVector(colors[:, :3])\n",
    "    #o3d.visualization.webrtc_server.enable_webrtc()\n",
    "    o3d.visualization.draw_geometries([pcd])\n",
    "    #o3d.visualization.webrtc_server.enable_webrtc()"
   ]
  },
  {
   "cell_type": "code",
   "execution_count": null,
   "id": "89644c4f",
   "metadata": {},
   "outputs": [],
   "source": [
    "pcd = o3d.io.read_point_cloud(\"test_new_pcd.ply\")\n",
    "plane_model, inliers = pcd.segment_plane(distance_threshold=1,\n",
    "                                         ransac_n=3,\n",
    "                                         num_iterations=1000)\n",
    "[a, b, c, d] = plane_model\n",
    "print(f\"Plane equation: {a:.2f}x + {b:.2f}y + {c:.2f}z + {d:.2f} = 0\")\n",
    "\n",
    "inlier_cloud = pcd.select_by_index(inliers)\n",
    "inlier_cloud.paint_uniform_color([1.0, 0, 0])\n",
    "outlier_cloud = pcd.select_by_index(inliers, invert=True)\n",
    "o3d.visualization.draw_geometries([inlier_cloud, outlier_cloud])"
   ]
  },
  {
   "cell_type": "code",
   "execution_count": 1,
   "id": "8ad36861",
   "metadata": {},
   "outputs": [
    {
     "data": {
      "text/plain": [
       "'\\nimport numpy as np\\nimport open3d as o3d\\nfrom sklearn.cluster import KMeans, DBSCAN, OPTICS\\nimport matplotlib.pyplot as plt\\nfrom sklearn.preprocessing import StandardScaler\\n\\nif __name__ == \\'__main__\\':\\n    # Read point cloud:\\n    pcd = o3d.io.read_point_cloud(\"test_new_pcd.ply\")\\n    o3d.visualization.draw_geometries([pcd])\\n    # Get points and transform it to a numpy array:\\n    points = np.asarray(pcd.points).copy()\\n\\n    # Project points on 0XZ plane:\\n    points[:, 1] = 0\\n    pcd_projected = o3d.geometry.PointCloud()  # create point cloud object\\n    pcd_projected.points = o3d.utility.Vector3dVector(points)  # set pcd_np as the point cloud points\\n    o3d.visualization.draw_geometries([pcd_projected])\\n\\n    # projection: consider the x and z coordinates:\\n    points_xz = points[:, [0, 2]]\\n    # Normalisation:\\n    scaled_points = StandardScaler().fit_transform(points_xz)\\n    # Clustering:\\n    model = DBSCAN(eps=0.15, min_samples=10)\\n    model.fit(scaled_points)\\n\\n    # Get labels:\\n    labels = model.labels_\\n    # Get the number of colors:\\n    n_clusters = len(set(labels))\\n\\n    # Mapping the labels classes to a color map:\\n    colors = plt.get_cmap(\"tab20\")(labels / (n_clusters if n_clusters > 0 else 1))\\n    # Attribute to noise the black color:\\n    colors[labels < 0] = 0\\n    # Update points colors:\\n    pcd_projected.colors = o3d.utility.Vector3dVector(colors[:, :3])\\n    pcd.colors = o3d.utility.Vector3dVector(colors[:, :3])\\n\\n    # Display:\\n    o3d.visualization.draw_geometries([pcd_projected])\\n    o3d.visualization.draw_geometries([pcd])\\n'"
      ]
     },
     "execution_count": 1,
     "metadata": {},
     "output_type": "execute_result"
    }
   ],
   "source": [
    "'''\n",
    "import numpy as np\n",
    "import open3d as o3d\n",
    "from sklearn.cluster import KMeans, DBSCAN, OPTICS\n",
    "import matplotlib.pyplot as plt\n",
    "from sklearn.preprocessing import StandardScaler\n",
    "\n",
    "if __name__ == '__main__':\n",
    "    # Read point cloud:\n",
    "    pcd = o3d.io.read_point_cloud(\"test_new_pcd.ply\")\n",
    "    o3d.visualization.draw_geometries([pcd])\n",
    "    # Get points and transform it to a numpy array:\n",
    "    points = np.asarray(pcd.points).copy()\n",
    "\n",
    "    # Project points on 0XZ plane:\n",
    "    points[:, 1] = 0\n",
    "    pcd_projected = o3d.geometry.PointCloud()  # create point cloud object\n",
    "    pcd_projected.points = o3d.utility.Vector3dVector(points)  # set pcd_np as the point cloud points\n",
    "    o3d.visualization.draw_geometries([pcd_projected])\n",
    "\n",
    "    # projection: consider the x and z coordinates:\n",
    "    points_xz = points[:, [0, 2]]\n",
    "    # Normalisation:\n",
    "    scaled_points = StandardScaler().fit_transform(points_xz)\n",
    "    # Clustering:\n",
    "    model = DBSCAN(eps=0.15, min_samples=10)\n",
    "    model.fit(scaled_points)\n",
    "\n",
    "    # Get labels:\n",
    "    labels = model.labels_\n",
    "    # Get the number of colors:\n",
    "    n_clusters = len(set(labels))\n",
    "\n",
    "    # Mapping the labels classes to a color map:\n",
    "    colors = plt.get_cmap(\"tab20\")(labels / (n_clusters if n_clusters > 0 else 1))\n",
    "    # Attribute to noise the black color:\n",
    "    colors[labels < 0] = 0\n",
    "    # Update points colors:\n",
    "    pcd_projected.colors = o3d.utility.Vector3dVector(colors[:, :3])\n",
    "    pcd.colors = o3d.utility.Vector3dVector(colors[:, :3])\n",
    "\n",
    "    # Display:\n",
    "    o3d.visualization.draw_geometries([pcd_projected])\n",
    "    o3d.visualization.draw_geometries([pcd])\n",
    "'''"
   ]
  },
  {
   "cell_type": "code",
   "execution_count": null,
   "id": "e2eba0ba",
   "metadata": {},
   "outputs": [],
   "source": []
  }
 ],
 "metadata": {
  "kernelspec": {
   "display_name": "Python 3 (ipykernel)",
   "language": "python",
   "name": "python3"
  },
  "language_info": {
   "codemirror_mode": {
    "name": "ipython",
    "version": 3
   },
   "file_extension": ".py",
   "mimetype": "text/x-python",
   "name": "python",
   "nbconvert_exporter": "python",
   "pygments_lexer": "ipython3",
   "version": "3.7.16"
  }
 },
 "nbformat": 4,
 "nbformat_minor": 5
}
