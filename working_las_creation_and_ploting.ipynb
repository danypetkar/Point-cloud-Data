{
 "cells": [
  {
   "cell_type": "code",
   "execution_count": 1,
   "id": "b2a4ac55",
   "metadata": {},
   "outputs": [],
   "source": [
    "import numpy as np\n",
    "import pandas as pd\n",
    "#laspy==1.7.0\n",
    "#python=3.6"
   ]
  },
  {
   "cell_type": "code",
   "execution_count": 2,
   "id": "210be274",
   "metadata": {},
   "outputs": [
    {
     "name": "stderr",
     "output_type": "stream",
     "text": [
      "C:\\Users\\dany\\.conda\\envs\\deepl_gpu\\lib\\site-packages\\IPython\\core\\interactiveshell.py:3072: DtypeWarning: Columns (0,1,2,3,4,5,6,7) have mixed types.Specify dtype option on import or set low_memory=False.\n",
      "  interactivity=interactivity, compiler=compiler, result=result)\n"
     ]
    }
   ],
   "source": [
    "raw = pd.read_csv(\"my_point_cloud_new.csv\", header=None).values"
   ]
  },
  {
   "cell_type": "code",
   "execution_count": 3,
   "id": "75b3200e",
   "metadata": {},
   "outputs": [
    {
     "data": {
      "text/plain": [
       "array(['Red', 'Green', 'Blue', 'X', 'Y', 'Z', 'Classification',\n",
       "       'Intensity'], dtype=object)"
      ]
     },
     "execution_count": 3,
     "metadata": {},
     "output_type": "execute_result"
    }
   ],
   "source": [
    "raw[0]"
   ]
  },
  {
   "cell_type": "code",
   "execution_count": 4,
   "id": "9e9bb327",
   "metadata": {},
   "outputs": [
    {
     "data": {
      "text/plain": [
       "array([['Red', 'Green', 'Blue', 'X', 'Y', 'Z', 'Classification',\n",
       "        'Intensity'],\n",
       "       ['81', '84', '94', '716000.5079999999', '935999.281',\n",
       "        '10.609000000000002', '3', '0.0'],\n",
       "       ['67', '65', '87', '716000.082', '935999.061', '11.248', '3',\n",
       "        '0.0'],\n",
       "       ['62', '61', '81', '716000.252', '935998.521', '4.348', '3',\n",
       "        '0.0'],\n",
       "       ['67', '65', '87', '716000.1390000001', '935998.958', '9.781',\n",
       "        '3', '0.0']], dtype=object)"
      ]
     },
     "execution_count": 4,
     "metadata": {},
     "output_type": "execute_result"
    }
   ],
   "source": [
    "raw[0:5]"
   ]
  },
  {
   "cell_type": "code",
   "execution_count": 5,
   "id": "95341f9b",
   "metadata": {},
   "outputs": [],
   "source": [
    "raw = raw[1:,:]"
   ]
  },
  {
   "cell_type": "code",
   "execution_count": 6,
   "id": "59f441c6",
   "metadata": {},
   "outputs": [
    {
     "data": {
      "text/plain": [
       "array(['81', '84', '94', '716000.5079999999', '935999.281',\n",
       "       '10.609000000000002', '3', '0.0'], dtype=object)"
      ]
     },
     "execution_count": 6,
     "metadata": {},
     "output_type": "execute_result"
    }
   ],
   "source": [
    "raw[0]"
   ]
  },
  {
   "cell_type": "code",
   "execution_count": 7,
   "id": "cd4b3b1b",
   "metadata": {},
   "outputs": [
    {
     "data": {
      "text/plain": [
       "array([3, 3, 3, ..., 7, 7, 7])"
      ]
     },
     "execution_count": 7,
     "metadata": {},
     "output_type": "execute_result"
    }
   ],
   "source": [
    "labels = np.array(raw[:,6],dtype=np.int)\n",
    "labels"
   ]
  },
  {
   "cell_type": "code",
   "execution_count": 8,
   "id": "93b7dbd9",
   "metadata": {},
   "outputs": [],
   "source": [
    "xyz = np.ascontiguousarray(raw[:, [3,4,5]], dtype=np.float32)"
   ]
  },
  {
   "cell_type": "code",
   "execution_count": 9,
   "id": "41b75797",
   "metadata": {},
   "outputs": [
    {
     "data": {
      "text/plain": [
       "array([[7.1600050e+05, 9.3599925e+05, 1.0609000e+01],\n",
       "       [7.1600006e+05, 9.3599906e+05, 1.1248000e+01],\n",
       "       [7.1600025e+05, 9.3599850e+05, 4.3480000e+00],\n",
       "       ...,\n",
       "       [7.1685912e+05, 9.3598944e+05, 2.9100001e+00],\n",
       "       [7.1669531e+05, 9.3595681e+05, 2.5699999e+00],\n",
       "       [7.1681650e+05, 9.3594350e+05, 2.1700001e+00]], dtype=float32)"
      ]
     },
     "execution_count": 9,
     "metadata": {},
     "output_type": "execute_result"
    }
   ],
   "source": [
    "xyz"
   ]
  },
  {
   "cell_type": "code",
   "execution_count": 10,
   "id": "643e7f4e",
   "metadata": {},
   "outputs": [
    {
     "data": {
      "text/plain": [
       "array([[20736, 21504, 24064],\n",
       "       [17152, 16640, 22272],\n",
       "       [15872, 15616, 20736],\n",
       "       ...,\n",
       "       [32256, 29184, 28160],\n",
       "       [ 7680,  6656, 15360],\n",
       "       [33536, 27904, 30208]], dtype=uint16)"
      ]
     },
     "execution_count": 10,
     "metadata": {},
     "output_type": "execute_result"
    }
   ],
   "source": [
    "rgb = np.ascontiguousarray(raw[:, 0:3], dtype='uint8') * 256\n",
    "rgb"
   ]
  },
  {
   "cell_type": "code",
   "execution_count": 11,
   "id": "19743060",
   "metadata": {},
   "outputs": [
    {
     "data": {
      "text/plain": [
       "array([0., 0., 0., ..., 0., 0., 0.], dtype=float32)"
      ]
     },
     "execution_count": 11,
     "metadata": {},
     "output_type": "execute_result"
    }
   ],
   "source": [
    "i = np.ascontiguousarray(raw[:, 7], dtype='float32') * 256\n",
    "i"
   ]
  },
  {
   "cell_type": "code",
   "execution_count": 12,
   "id": "0a971418",
   "metadata": {},
   "outputs": [],
   "source": [
    "import laspy\n",
    "hdr = laspy.header.Header(file_version=1.4, point_format=7)"
   ]
  },
  {
   "cell_type": "code",
   "execution_count": 13,
   "id": "7a876452",
   "metadata": {},
   "outputs": [],
   "source": [
    "mins = np.floor(np.min(xyz, axis=1))\n",
    "hdr.offset = mins\n",
    "hdr.scale = [0.01,0.01,0.01]\n",
    "outfile = laspy.file.File(\"outfile7.las\", mode=\"w\", header=hdr)"
   ]
  },
  {
   "cell_type": "code",
   "execution_count": 14,
   "id": "a02f41ca",
   "metadata": {},
   "outputs": [],
   "source": [
    "outfile.X = xyz[:,0]\n",
    "outfile.Y = xyz[:,1]\n",
    "outfile.Z = xyz[:,2]\n",
    "outfile.Red = rgb[:,0]\n",
    "outfile.Green = rgb[:,1]\n",
    "outfile.Blue = rgb[:,2]\n",
    "outfile.Intensity = i\n",
    "outfile.classification = labels\n",
    "outfile.close()"
   ]
  },
  {
   "cell_type": "code",
   "execution_count": 15,
   "id": "c2f12078",
   "metadata": {},
   "outputs": [],
   "source": [
    "inFile = laspy.file.File('outfile7.las', mode='r')"
   ]
  },
  {
   "cell_type": "code",
   "execution_count": 16,
   "id": "a74c9f79",
   "metadata": {},
   "outputs": [
    {
     "data": {
      "text/plain": [
       "<laspy.util.Format at 0x23e157a8400>"
      ]
     },
     "execution_count": 16,
     "metadata": {},
     "output_type": "execute_result"
    }
   ],
   "source": [
    "inFile.header.schema"
   ]
  },
  {
   "cell_type": "code",
   "execution_count": 17,
   "id": "9f3bf9ca",
   "metadata": {},
   "outputs": [
    {
     "data": {
      "text/plain": [
       "array([24064, 22272, 20736, ..., 28160, 15360, 30208], dtype=uint16)"
      ]
     },
     "execution_count": 17,
     "metadata": {},
     "output_type": "execute_result"
    }
   ],
   "source": [
    "inFile.Blue"
   ]
  },
  {
   "cell_type": "code",
   "execution_count": 18,
   "id": "dc60e41a",
   "metadata": {},
   "outputs": [
    {
     "data": {
      "text/plain": [
       "array([0., 0., 0., ..., 0., 0., 0.])"
      ]
     },
     "execution_count": 18,
     "metadata": {},
     "output_type": "execute_result"
    }
   ],
   "source": [
    "inFile.x"
   ]
  },
  {
   "cell_type": "code",
   "execution_count": 19,
   "id": "7986519b",
   "metadata": {},
   "outputs": [
    {
     "data": {
      "text/plain": [
       "array([0., 0., 0., ..., 0., 0., 0.])"
      ]
     },
     "execution_count": 19,
     "metadata": {},
     "output_type": "execute_result"
    }
   ],
   "source": [
    "inFile.y"
   ]
  },
  {
   "cell_type": "code",
   "execution_count": 20,
   "id": "2347f2ba",
   "metadata": {},
   "outputs": [
    {
     "data": {
      "text/plain": [
       "array([3, 3, 3, ..., 7, 7, 7], dtype=uint8)"
      ]
     },
     "execution_count": 20,
     "metadata": {},
     "output_type": "execute_result"
    }
   ],
   "source": [
    "inFile.classification"
   ]
  },
  {
   "cell_type": "code",
   "execution_count": 21,
   "id": "a04c986a",
   "metadata": {},
   "outputs": [
    {
     "data": {
      "text/plain": [
       "array([20736, 17152, 15872, ..., 32256,  7680, 33536], dtype=uint16)"
      ]
     },
     "execution_count": 21,
     "metadata": {},
     "output_type": "execute_result"
    }
   ],
   "source": [
    "inFile.red"
   ]
  },
  {
   "cell_type": "code",
   "execution_count": 22,
   "id": "31917641",
   "metadata": {},
   "outputs": [
    {
     "data": {
      "text/plain": [
       "array([20736, 17152, 15872, ..., 32256,  7680, 33536], dtype=uint16)"
      ]
     },
     "execution_count": 22,
     "metadata": {},
     "output_type": "execute_result"
    }
   ],
   "source": [
    "inFile.Red"
   ]
  },
  {
   "cell_type": "code",
   "execution_count": 23,
   "id": "8b0842a1",
   "metadata": {},
   "outputs": [
    {
     "data": {
      "text/plain": [
       "array([716000, 716000, 716000, ..., 716859, 716695, 716816])"
      ]
     },
     "execution_count": 23,
     "metadata": {},
     "output_type": "execute_result"
    }
   ],
   "source": [
    "inFile.X"
   ]
  },
  {
   "cell_type": "code",
   "execution_count": 24,
   "id": "9f66a136",
   "metadata": {},
   "outputs": [
    {
     "data": {
      "text/plain": [
       "array([935999, 935999, 935998, ..., 935989, 935956, 935943])"
      ]
     },
     "execution_count": 24,
     "metadata": {},
     "output_type": "execute_result"
    }
   ],
   "source": [
    "inFile.Y"
   ]
  },
  {
   "cell_type": "code",
   "execution_count": 25,
   "id": "2f3dd014",
   "metadata": {},
   "outputs": [
    {
     "data": {
      "text/plain": [
       "array([10, 11,  4, ...,  2,  2,  2])"
      ]
     },
     "execution_count": 25,
     "metadata": {},
     "output_type": "execute_result"
    }
   ],
   "source": [
    "inFile.Z"
   ]
  },
  {
   "cell_type": "code",
   "execution_count": 26,
   "id": "bfc79778",
   "metadata": {},
   "outputs": [],
   "source": [
    "import numpy as np\n",
    "points = np.vstack((inFile.X, inFile.Y, inFile.Z)).transpose()\n",
    "colors = np.vstack((inFile.Red, inFile.Green, inFile.Blue)).transpose()"
   ]
  },
  {
   "cell_type": "code",
   "execution_count": 27,
   "id": "22b09f15",
   "metadata": {},
   "outputs": [
    {
     "data": {
      "text/plain": [
       "array([[716000, 935999,     10],\n",
       "       [716000, 935999,     11],\n",
       "       [716000, 935998,      4],\n",
       "       ...,\n",
       "       [716859, 935989,      2],\n",
       "       [716695, 935956,      2],\n",
       "       [716816, 935943,      2]])"
      ]
     },
     "execution_count": 27,
     "metadata": {},
     "output_type": "execute_result"
    }
   ],
   "source": [
    "points"
   ]
  },
  {
   "cell_type": "code",
   "execution_count": 28,
   "id": "9bf67717",
   "metadata": {},
   "outputs": [
    {
     "data": {
      "text/plain": [
       "array([[20736, 21504, 24064],\n",
       "       [17152, 16640, 22272],\n",
       "       [15872, 15616, 20736],\n",
       "       ...,\n",
       "       [32256, 29184, 28160],\n",
       "       [ 7680,  6656, 15360],\n",
       "       [33536, 27904, 30208]], dtype=uint16)"
      ]
     },
     "execution_count": 28,
     "metadata": {},
     "output_type": "execute_result"
    }
   ],
   "source": [
    "colors"
   ]
  },
  {
   "cell_type": "code",
   "execution_count": 29,
   "id": "34f30425",
   "metadata": {},
   "outputs": [
    {
     "name": "stdout",
     "output_type": "stream",
     "text": [
      "Jupyter environment detected. Enabling Open3D WebVisualizer.\n",
      "[Open3D INFO] WebRTC GUI backend enabled.\n",
      "[Open3D INFO] WebRTCWindowSystem: HTTP handshake server disabled.\n",
      "[[0.31641108 0.32813001 0.3671931 ]\n",
      " [0.26172274 0.25391012 0.33984894]\n",
      " [0.2421912  0.23828489 0.31641108]\n",
      " ...\n",
      " [0.49219501 0.4453193  0.42969406]\n",
      " [0.11718929 0.10156405 0.23437858]\n",
      " [0.51172656 0.42578775 0.46094453]]\n"
     ]
    }
   ],
   "source": [
    "import open3d as o3d\n",
    "pcd = o3d.geometry.PointCloud()\n",
    "pcd.points = o3d.utility.Vector3dVector(points)\n",
    "pcd.colors = o3d.utility.Vector3dVector(colors/65535)\n",
    "#pcd.normals = o3d.utility.Vector3dVector(normals)\n",
    "o3d.visualization.draw_geometries([pcd])\n",
    "print(np.array(pcd.colors))"
   ]
  },
  {
   "cell_type": "code",
   "execution_count": null,
   "id": "a88d536d",
   "metadata": {},
   "outputs": [],
   "source": [
    "voxel_grid = o3d.geometry.VoxelGrid.create_from_point_cloud(pcd,voxel_size=0.40)\n",
    "o3d.visualization.draw_geometries([voxel_grid])"
   ]
  },
  {
   "cell_type": "code",
   "execution_count": 56,
   "id": "51a1dfd4",
   "metadata": {},
   "outputs": [],
   "source": [
    "import pptk\n",
    "import numpy as np\n",
    "v = pptk.viewer(points)\n",
    "v.attributes(colors/65535)\n",
    "v.color_map('cool')\n",
    "v.set(point_size=0.001,bg_color=[0,0,0,0],show_axis=0,show_grid=0)"
   ]
  },
  {
   "cell_type": "code",
   "execution_count": null,
   "id": "c590b59d",
   "metadata": {},
   "outputs": [],
   "source": []
  }
 ],
 "metadata": {
  "kernelspec": {
   "display_name": "Python 3",
   "language": "python",
   "name": "python3"
  },
  "language_info": {
   "codemirror_mode": {
    "name": "ipython",
    "version": 3
   },
   "file_extension": ".py",
   "mimetype": "text/x-python",
   "name": "python",
   "nbconvert_exporter": "python",
   "pygments_lexer": "ipython3",
   "version": "3.6.13"
  }
 },
 "nbformat": 4,
 "nbformat_minor": 5
}
