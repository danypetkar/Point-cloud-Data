{
 "cells": [
  {
   "cell_type": "code",
   "execution_count": 3,
   "id": "0dddb3ca",
   "metadata": {},
   "outputs": [],
   "source": [
    "import os\n",
    "os.environ[\"CUDA_DEVICE_ORDER\"] = \"PCI_BUS_ID\"   #if like me you do not have a lot of memory in your GPU\n",
    "os.environ[\"CUDA_VISIBLE_DEVICES\"] = \"\" #then these two lines force keras to use your CPU\n",
    "import keras\n",
    "from keras.models import Sequential\n",
    "from keras.layers import Dense, Flatten, Conv3D, MaxPooling3D, Dropout, BatchNormalization\n",
    "from keras.utils.np_utils import to_categorical\n",
    "import numpy as np\n",
    "import matplotlib.pyplot as plt\n",
    "import h5py\n",
    "from mpl_toolkits.mplot3d import Axes3D"
   ]
  },
  {
   "cell_type": "code",
   "execution_count": 4,
   "id": "f00dad33",
   "metadata": {},
   "outputs": [],
   "source": [
    "def array_to_color(array, cmap=\"Oranges\"):\n",
    "    s_m = plt.cm.ScalarMappable(cmap=cmap)\n",
    "    return s_m.to_rgba(array)[:,:-1]\n",
    "\n",
    "\n",
    "def rgb_data_transform(data):\n",
    "    data_t = []\n",
    "    for i in range(data.shape[0]):\n",
    "        data_t.append(array_to_color(data[i]).reshape(16, 16, 16, 3))\n",
    "    return np.asarray(data_t, dtype=np.float32)"
   ]
  },
  {
   "cell_type": "code",
   "execution_count": 5,
   "id": "d309f2c5",
   "metadata": {},
   "outputs": [],
   "source": [
    "#download data from kaggle\n",
    "with h5py.File(\"mnist_3d/train_point_clouds.h5\", \"r\") as hf:    \n",
    "    a = hf[\"0\"]\n",
    "    b = a['img'][:]\n",
    "    s = a['points'][:]"
   ]
  },
  {
   "cell_type": "code",
   "execution_count": 7,
   "id": "0f142a8f",
   "metadata": {},
   "outputs": [
    {
     "data": {
      "text/plain": [
       "h5py._hl.group.Group"
      ]
     },
     "execution_count": 7,
     "metadata": {},
     "output_type": "execute_result"
    }
   ],
   "source": [
    "type(a)"
   ]
  },
  {
   "cell_type": "code",
   "execution_count": 8,
   "id": "ee73c770",
   "metadata": {},
   "outputs": [
    {
     "data": {
      "text/plain": [
       "numpy.ndarray"
      ]
     },
     "execution_count": 8,
     "metadata": {},
     "output_type": "execute_result"
    }
   ],
   "source": [
    "type(b)"
   ]
  },
  {
   "cell_type": "code",
   "execution_count": 9,
   "id": "29153333",
   "metadata": {},
   "outputs": [
    {
     "data": {
      "text/plain": [
       "(30, 30)"
      ]
     },
     "execution_count": 9,
     "metadata": {},
     "output_type": "execute_result"
    }
   ],
   "source": [
    "b.shape"
   ]
  },
  {
   "cell_type": "code",
   "execution_count": 10,
   "id": "9f4693cd",
   "metadata": {},
   "outputs": [
    {
     "data": {
      "text/plain": [
       "numpy.ndarray"
      ]
     },
     "execution_count": 10,
     "metadata": {},
     "output_type": "execute_result"
    }
   ],
   "source": [
    "type(s)"
   ]
  },
  {
   "cell_type": "code",
   "execution_count": 11,
   "id": "b5e26fbb",
   "metadata": {},
   "outputs": [
    {
     "data": {
      "text/plain": [
       "(25700, 3)"
      ]
     },
     "execution_count": 11,
     "metadata": {},
     "output_type": "execute_result"
    }
   ],
   "source": [
    "s.shape"
   ]
  },
  {
   "cell_type": "code",
   "execution_count": 12,
   "id": "c66eb2fc",
   "metadata": {},
   "outputs": [
    {
     "data": {
      "text/plain": [
       "array([[ 0.15      , -0.1094358 ,  0.47305447],\n",
       "       [ 0.15      , -0.0969358 ,  0.47305447],\n",
       "       [ 0.15      , -0.0844358 ,  0.47305447],\n",
       "       ...,\n",
       "       [ 0.15      , -0.1094358 , -0.50194553],\n",
       "       [ 0.15      , -0.1094358 , -0.51444553],\n",
       "       [ 0.15      , -0.1094358 , -0.52694553]])"
      ]
     },
     "execution_count": 12,
     "metadata": {},
     "output_type": "execute_result"
    }
   ],
   "source": [
    "s"
   ]
  },
  {
   "cell_type": "code",
   "execution_count": 13,
   "id": "7b6f3f55",
   "metadata": {},
   "outputs": [
    {
     "data": {
      "text/plain": [
       "array([[0.        , 0.        , 0.        , 0.        , 0.        ,\n",
       "        0.        , 0.        , 0.        , 0.        , 0.        ,\n",
       "        0.        , 0.        , 0.        , 0.        , 0.        ,\n",
       "        0.        , 0.        , 0.        , 0.        , 0.        ,\n",
       "        0.        , 0.        , 0.        , 0.        , 0.        ,\n",
       "        0.        , 0.        , 0.        , 0.        , 0.        ],\n",
       "       [0.        , 0.        , 0.        , 0.        , 0.        ,\n",
       "        0.        , 0.        , 0.        , 0.        , 0.        ,\n",
       "        0.        , 0.        , 0.        , 0.        , 0.        ,\n",
       "        0.        , 0.        , 0.        , 0.        , 0.        ,\n",
       "        0.        , 0.        , 0.        , 0.        , 0.        ,\n",
       "        0.        , 0.        , 0.        , 0.        , 0.        ],\n",
       "       [0.        , 0.        , 0.        , 0.        , 0.        ,\n",
       "        0.        , 0.        , 0.        , 0.        , 0.        ,\n",
       "        0.        , 0.        , 0.        , 0.        , 0.        ,\n",
       "        0.        , 0.        , 0.        , 0.        , 0.        ,\n",
       "        0.        , 0.        , 0.        , 0.        , 0.        ,\n",
       "        0.        , 0.        , 0.        , 0.        , 0.        ],\n",
       "       [0.        , 0.        , 0.        , 0.        , 0.        ,\n",
       "        0.        , 0.        , 0.        , 0.        , 0.        ,\n",
       "        0.        , 0.        , 0.        , 0.        , 0.        ,\n",
       "        0.        , 0.        , 0.        , 0.        , 0.        ,\n",
       "        0.        , 0.        , 0.        , 0.        , 0.        ,\n",
       "        0.        , 0.        , 0.        , 0.        , 0.        ],\n",
       "       [0.        , 0.        , 0.        , 0.        , 0.        ,\n",
       "        0.        , 0.        , 0.        , 0.        , 0.        ,\n",
       "        0.        , 0.        , 0.        , 0.        , 0.        ,\n",
       "        0.        , 0.        , 0.        , 0.        , 0.        ,\n",
       "        0.        , 0.        , 0.        , 0.        , 0.        ,\n",
       "        0.        , 0.        , 0.        , 0.        , 0.        ],\n",
       "       [0.        , 0.        , 0.        , 0.        , 0.        ,\n",
       "        0.        , 0.        , 0.        , 0.        , 0.        ,\n",
       "        0.        , 0.        , 0.        , 0.        , 0.        ,\n",
       "        0.        , 0.        , 0.        , 0.        , 0.        ,\n",
       "        0.        , 0.        , 0.        , 0.        , 0.        ,\n",
       "        0.        , 0.        , 0.        , 0.        , 0.        ],\n",
       "       [0.        , 0.        , 0.        , 0.        , 0.        ,\n",
       "        0.        , 0.        , 0.        , 0.        , 0.        ,\n",
       "        0.        , 0.        , 0.        , 0.01171875, 0.0703125 ,\n",
       "        0.0703125 , 0.0703125 , 0.4921875 , 0.53125   , 0.68359375,\n",
       "        0.1015625 , 0.6484375 , 0.99609375, 0.96484375, 0.49609375,\n",
       "        0.        , 0.        , 0.        , 0.        , 0.        ],\n",
       "       [0.        , 0.        , 0.        , 0.        , 0.        ,\n",
       "        0.        , 0.        , 0.        , 0.        , 0.1171875 ,\n",
       "        0.140625  , 0.3671875 , 0.6015625 , 0.6640625 , 0.98828125,\n",
       "        0.98828125, 0.98828125, 0.98828125, 0.98828125, 0.87890625,\n",
       "        0.671875  , 0.98828125, 0.9453125 , 0.76171875, 0.25      ,\n",
       "        0.        , 0.        , 0.        , 0.        , 0.        ],\n",
       "       [0.        , 0.        , 0.        , 0.        , 0.        ,\n",
       "        0.        , 0.        , 0.        , 0.19140625, 0.9296875 ,\n",
       "        0.98828125, 0.98828125, 0.98828125, 0.98828125, 0.98828125,\n",
       "        0.98828125, 0.98828125, 0.98828125, 0.98046875, 0.36328125,\n",
       "        0.3203125 , 0.3203125 , 0.21875   , 0.15234375, 0.        ,\n",
       "        0.        , 0.        , 0.        , 0.        , 0.        ],\n",
       "       [0.        , 0.        , 0.        , 0.        , 0.        ,\n",
       "        0.        , 0.        , 0.        , 0.0703125 , 0.85546875,\n",
       "        0.98828125, 0.98828125, 0.98828125, 0.98828125, 0.98828125,\n",
       "        0.7734375 , 0.7109375 , 0.96484375, 0.94140625, 0.        ,\n",
       "        0.        , 0.        , 0.        , 0.        , 0.        ,\n",
       "        0.        , 0.        , 0.        , 0.        , 0.        ],\n",
       "       [0.        , 0.        , 0.        , 0.        , 0.        ,\n",
       "        0.        , 0.        , 0.        , 0.        , 0.3125    ,\n",
       "        0.609375  , 0.41796875, 0.98828125, 0.98828125, 0.80078125,\n",
       "        0.04296875, 0.        , 0.16796875, 0.6015625 , 0.        ,\n",
       "        0.        , 0.        , 0.        , 0.        , 0.        ,\n",
       "        0.        , 0.        , 0.        , 0.        , 0.        ],\n",
       "       [0.        , 0.        , 0.        , 0.        , 0.        ,\n",
       "        0.        , 0.        , 0.        , 0.        , 0.        ,\n",
       "        0.0546875 , 0.00390625, 0.6015625 , 0.98828125, 0.3515625 ,\n",
       "        0.        , 0.        , 0.        , 0.        , 0.        ,\n",
       "        0.        , 0.        , 0.        , 0.        , 0.        ,\n",
       "        0.        , 0.        , 0.        , 0.        , 0.        ],\n",
       "       [0.        , 0.        , 0.        , 0.        , 0.        ,\n",
       "        0.        , 0.        , 0.        , 0.        , 0.        ,\n",
       "        0.        , 0.        , 0.54296875, 0.98828125, 0.7421875 ,\n",
       "        0.0078125 , 0.        , 0.        , 0.        , 0.        ,\n",
       "        0.        , 0.        , 0.        , 0.        , 0.        ,\n",
       "        0.        , 0.        , 0.        , 0.        , 0.        ],\n",
       "       [0.        , 0.        , 0.        , 0.        , 0.        ,\n",
       "        0.        , 0.        , 0.        , 0.        , 0.        ,\n",
       "        0.        , 0.        , 0.04296875, 0.7421875 , 0.98828125,\n",
       "        0.2734375 , 0.        , 0.        , 0.        , 0.        ,\n",
       "        0.        , 0.        , 0.        , 0.        , 0.        ,\n",
       "        0.        , 0.        , 0.        , 0.        , 0.        ],\n",
       "       [0.        , 0.        , 0.        , 0.        , 0.        ,\n",
       "        0.        , 0.        , 0.        , 0.        , 0.        ,\n",
       "        0.        , 0.        , 0.        , 0.13671875, 0.94140625,\n",
       "        0.87890625, 0.625     , 0.421875  , 0.00390625, 0.        ,\n",
       "        0.        , 0.        , 0.        , 0.        , 0.        ,\n",
       "        0.        , 0.        , 0.        , 0.        , 0.        ],\n",
       "       [0.        , 0.        , 0.        , 0.        , 0.        ,\n",
       "        0.        , 0.        , 0.        , 0.        , 0.        ,\n",
       "        0.        , 0.        , 0.        , 0.        , 0.31640625,\n",
       "        0.9375    , 0.98828125, 0.98828125, 0.46484375, 0.09765625,\n",
       "        0.        , 0.        , 0.        , 0.        , 0.        ,\n",
       "        0.        , 0.        , 0.        , 0.        , 0.        ],\n",
       "       [0.        , 0.        , 0.        , 0.        , 0.        ,\n",
       "        0.        , 0.        , 0.        , 0.        , 0.        ,\n",
       "        0.        , 0.        , 0.        , 0.        , 0.        ,\n",
       "        0.17578125, 0.7265625 , 0.98828125, 0.98828125, 0.5859375 ,\n",
       "        0.10546875, 0.        , 0.        , 0.        , 0.        ,\n",
       "        0.        , 0.        , 0.        , 0.        , 0.        ],\n",
       "       [0.        , 0.        , 0.        , 0.        , 0.        ,\n",
       "        0.        , 0.        , 0.        , 0.        , 0.        ,\n",
       "        0.        , 0.        , 0.        , 0.        , 0.        ,\n",
       "        0.        , 0.0625    , 0.36328125, 0.984375  , 0.98828125,\n",
       "        0.73046875, 0.        , 0.        , 0.        , 0.        ,\n",
       "        0.        , 0.        , 0.        , 0.        , 0.        ],\n",
       "       [0.        , 0.        , 0.        , 0.        , 0.        ,\n",
       "        0.        , 0.        , 0.        , 0.        , 0.        ,\n",
       "        0.        , 0.        , 0.        , 0.        , 0.        ,\n",
       "        0.        , 0.        , 0.        , 0.97265625, 0.98828125,\n",
       "        0.97265625, 0.25      , 0.        , 0.        , 0.        ,\n",
       "        0.        , 0.        , 0.        , 0.        , 0.        ],\n",
       "       [0.        , 0.        , 0.        , 0.        , 0.        ,\n",
       "        0.        , 0.        , 0.        , 0.        , 0.        ,\n",
       "        0.        , 0.        , 0.        , 0.        , 0.        ,\n",
       "        0.1796875 , 0.5078125 , 0.71484375, 0.98828125, 0.98828125,\n",
       "        0.80859375, 0.0078125 , 0.        , 0.        , 0.        ,\n",
       "        0.        , 0.        , 0.        , 0.        , 0.        ],\n",
       "       [0.        , 0.        , 0.        , 0.        , 0.        ,\n",
       "        0.        , 0.        , 0.        , 0.        , 0.        ,\n",
       "        0.        , 0.        , 0.        , 0.15234375, 0.578125  ,\n",
       "        0.89453125, 0.98828125, 0.98828125, 0.98828125, 0.9765625 ,\n",
       "        0.7109375 , 0.        , 0.        , 0.        , 0.        ,\n",
       "        0.        , 0.        , 0.        , 0.        , 0.        ],\n",
       "       [0.        , 0.        , 0.        , 0.        , 0.        ,\n",
       "        0.        , 0.        , 0.        , 0.        , 0.        ,\n",
       "        0.        , 0.09375   , 0.4453125 , 0.86328125, 0.98828125,\n",
       "        0.98828125, 0.98828125, 0.98828125, 0.78515625, 0.3046875 ,\n",
       "        0.        , 0.        , 0.        , 0.        , 0.        ,\n",
       "        0.        , 0.        , 0.        , 0.        , 0.        ],\n",
       "       [0.        , 0.        , 0.        , 0.        , 0.        ,\n",
       "        0.        , 0.        , 0.        , 0.        , 0.08984375,\n",
       "        0.2578125 , 0.83203125, 0.98828125, 0.98828125, 0.98828125,\n",
       "        0.98828125, 0.7734375 , 0.31640625, 0.0078125 , 0.        ,\n",
       "        0.        , 0.        , 0.        , 0.        , 0.        ,\n",
       "        0.        , 0.        , 0.        , 0.        , 0.        ],\n",
       "       [0.        , 0.        , 0.        , 0.        , 0.        ,\n",
       "        0.        , 0.        , 0.0703125 , 0.66796875, 0.85546875,\n",
       "        0.98828125, 0.98828125, 0.98828125, 0.98828125, 0.76171875,\n",
       "        0.3125    , 0.03515625, 0.        , 0.        , 0.        ,\n",
       "        0.        , 0.        , 0.        , 0.        , 0.        ,\n",
       "        0.        , 0.        , 0.        , 0.        , 0.        ],\n",
       "       [0.        , 0.        , 0.        , 0.        , 0.        ,\n",
       "        0.21484375, 0.671875  , 0.8828125 , 0.98828125, 0.98828125,\n",
       "        0.98828125, 0.98828125, 0.953125  , 0.51953125, 0.04296875,\n",
       "        0.        , 0.        , 0.        , 0.        , 0.        ,\n",
       "        0.        , 0.        , 0.        , 0.        , 0.        ,\n",
       "        0.        , 0.        , 0.        , 0.        , 0.        ],\n",
       "       [0.        , 0.        , 0.        , 0.        , 0.        ,\n",
       "        0.53125   , 0.98828125, 0.98828125, 0.98828125, 0.828125  ,\n",
       "        0.52734375, 0.515625  , 0.0625    , 0.        , 0.        ,\n",
       "        0.        , 0.        , 0.        , 0.        , 0.        ,\n",
       "        0.        , 0.        , 0.        , 0.        , 0.        ,\n",
       "        0.        , 0.        , 0.        , 0.        , 0.        ],\n",
       "       [0.        , 0.        , 0.        , 0.        , 0.        ,\n",
       "        0.        , 0.        , 0.        , 0.        , 0.        ,\n",
       "        0.        , 0.        , 0.        , 0.        , 0.        ,\n",
       "        0.        , 0.        , 0.        , 0.        , 0.        ,\n",
       "        0.        , 0.        , 0.        , 0.        , 0.        ,\n",
       "        0.        , 0.        , 0.        , 0.        , 0.        ],\n",
       "       [0.        , 0.        , 0.        , 0.        , 0.        ,\n",
       "        0.        , 0.        , 0.        , 0.        , 0.        ,\n",
       "        0.        , 0.        , 0.        , 0.        , 0.        ,\n",
       "        0.        , 0.        , 0.        , 0.        , 0.        ,\n",
       "        0.        , 0.        , 0.        , 0.        , 0.        ,\n",
       "        0.        , 0.        , 0.        , 0.        , 0.        ],\n",
       "       [0.        , 0.        , 0.        , 0.        , 0.        ,\n",
       "        0.        , 0.        , 0.        , 0.        , 0.        ,\n",
       "        0.        , 0.        , 0.        , 0.        , 0.        ,\n",
       "        0.        , 0.        , 0.        , 0.        , 0.        ,\n",
       "        0.        , 0.        , 0.        , 0.        , 0.        ,\n",
       "        0.        , 0.        , 0.        , 0.        , 0.        ],\n",
       "       [0.        , 0.        , 0.        , 0.        , 0.        ,\n",
       "        0.        , 0.        , 0.        , 0.        , 0.        ,\n",
       "        0.        , 0.        , 0.        , 0.        , 0.        ,\n",
       "        0.        , 0.        , 0.        , 0.        , 0.        ,\n",
       "        0.        , 0.        , 0.        , 0.        , 0.        ,\n",
       "        0.        , 0.        , 0.        , 0.        , 0.        ]])"
      ]
     },
     "execution_count": 13,
     "metadata": {},
     "output_type": "execute_result"
    }
   ],
   "source": [
    "b"
   ]
  },
  {
   "cell_type": "code",
   "execution_count": 16,
   "id": "a66256e6",
   "metadata": {},
   "outputs": [
    {
     "data": {
      "text/plain": [
       "Text(0.5, 1.0, 'The figure 5 in 2d')"
      ]
     },
     "execution_count": 16,
     "metadata": {},
     "output_type": "execute_result"
    },
    {
     "data": {
      "image/png": "[encoded data removed]",
      "text/plain": [
       "<Figure size 432x288 with 1 Axes>"
      ]
     },
     "metadata": {
      "needs_background": "light"
     },
     "output_type": "display_data"
    }
   ],
   "source": [
    "plt.imshow(b)\n",
    "plt.title('The figure 5 in 2d')"
   ]
  },
  {
   "cell_type": "code",
   "execution_count": 18,
   "id": "aa0c940f",
   "metadata": {},
   "outputs": [
    {
     "data": {
      "image/png": "[encoded data removed]",
      "text/plain": [
       "<Figure size 432x288 with 1 Axes>"
      ]
     },
     "metadata": {
      "needs_background": "light"
     },
     "output_type": "display_data"
    }
   ],
   "source": [
    "import matplotlib.pyplot as plt\n",
    "from mpl_toolkits.mplot3d import Axes3D\n",
    "fig = plt.figure()\n",
    "ax = fig.add_subplot(111, projection='3d')\n",
    "ax.scatter(s[:,0], s[:,1], zs=s[:,2])\n",
    "ax.view_init(10, 0)\n",
    "plt.title('The figure 5 in 3d Cloud point')\n",
    "plt.show()"
   ]
  },
  {
   "cell_type": "code",
   "execution_count": 19,
   "id": "81cc342d",
   "metadata": {},
   "outputs": [
    {
     "data": {
      "text/plain": [
       "array([0.15, 0.15, 0.15, ..., 0.15, 0.15, 0.15])"
      ]
     },
     "execution_count": 19,
     "metadata": {},
     "output_type": "execute_result"
    }
   ],
   "source": [
    "s[:,0]"
   ]
  },
  {
   "cell_type": "code",
   "execution_count": 22,
   "id": "dbc90dc8",
   "metadata": {},
   "outputs": [],
   "source": [
    "with h5py.File(\"mnist_3d/full_dataset_vectors.h5\", \"r\") as hf:    \n",
    "\n",
    "    # Split the data into training/test features/targets\n",
    "    X_train = hf[\"X_train\"][:]\n",
    "    targets_train = hf[\"y_train\"][:]\n",
    "    X_test = hf[\"X_test\"][:] \n",
    "    targets_test = hf[\"y_test\"][:]\n",
    "\n",
    "    # Determine sample shape\n",
    "    sample_shape = (16, 16, 16, 3)\n",
    "\n",
    "    # Reshape data into 3D format\n",
    "    X_train = rgb_data_transform(X_train)\n",
    "    X_test = rgb_data_transform(X_test)\n",
    "\n",
    "    # Convert target vectors to categorical targets\n",
    "    targets_train = to_categorical(targets_train).astype(np.int32)\n",
    "    targets_test = to_categorical(targets_test).astype(np.int32)\n"
   ]
  },
  {
   "cell_type": "code",
   "execution_count": 23,
   "id": "3c07afba",
   "metadata": {},
   "outputs": [
    {
     "data": {
      "text/plain": [
       "(10000, 16, 16, 16, 3)"
      ]
     },
     "execution_count": 23,
     "metadata": {},
     "output_type": "execute_result"
    }
   ],
   "source": [
    "X_train.shape"
   ]
  },
  {
   "cell_type": "code",
   "execution_count": 24,
   "id": "103268ea",
   "metadata": {},
   "outputs": [
    {
     "data": {
      "text/plain": [
       "(16, 16, 16, 3)"
      ]
     },
     "execution_count": 24,
     "metadata": {},
     "output_type": "execute_result"
    }
   ],
   "source": [
    "X_train[0].shape"
   ]
  },
  {
   "cell_type": "code",
   "execution_count": 25,
   "id": "5d3350c0",
   "metadata": {},
   "outputs": [
    {
     "data": {
      "text/plain": [
       "array([[0, 0, 0, ..., 0, 0, 0],\n",
       "       [0, 0, 0, ..., 0, 0, 0],\n",
       "       [1, 0, 0, ..., 0, 0, 0],\n",
       "       ...,\n",
       "       [0, 1, 0, ..., 0, 0, 0],\n",
       "       [0, 0, 1, ..., 0, 0, 0],\n",
       "       [0, 0, 1, ..., 0, 0, 0]])"
      ]
     },
     "execution_count": 25,
     "metadata": {},
     "output_type": "execute_result"
    }
   ],
   "source": [
    "targets_train"
   ]
  },
  {
   "cell_type": "code",
   "execution_count": 31,
   "id": "98bd5ce9",
   "metadata": {},
   "outputs": [
    {
     "name": "stdout",
     "output_type": "stream",
     "text": [
      "Model: \"sequential_4\"\n",
      "_________________________________________________________________\n",
      "Layer (type)                 Output Shape              Param #   \n",
      "=================================================================\n",
      "conv3d_8 (Conv3D)            (None, 14, 14, 14, 32)    2624      \n",
      "_________________________________________________________________\n",
      "max_pooling3d_8 (MaxPooling3 (None, 7, 7, 7, 32)       0         \n",
      "_________________________________________________________________\n",
      "batch_normalization_8 (Batch (None, 7, 7, 7, 32)       128       \n",
      "_________________________________________________________________\n",
      "dropout_8 (Dropout)          (None, 7, 7, 7, 32)       0         \n",
      "_________________________________________________________________\n",
      "conv3d_9 (Conv3D)            (None, 5, 5, 5, 64)       55360     \n",
      "_________________________________________________________________\n",
      "max_pooling3d_9 (MaxPooling3 (None, 2, 2, 2, 64)       0         \n",
      "_________________________________________________________________\n",
      "batch_normalization_9 (Batch (None, 2, 2, 2, 64)       256       \n",
      "_________________________________________________________________\n",
      "dropout_9 (Dropout)          (None, 2, 2, 2, 64)       0         \n",
      "_________________________________________________________________\n",
      "flatten_4 (Flatten)          (None, 512)               0         \n",
      "_________________________________________________________________\n",
      "dense_12 (Dense)             (None, 256)               131328    \n",
      "_________________________________________________________________\n",
      "dense_13 (Dense)             (None, 256)               65792     \n",
      "_________________________________________________________________\n",
      "dense_14 (Dense)             (None, 10)                2570      \n",
      "=================================================================\n",
      "Total params: 258,058\n",
      "Trainable params: 257,866\n",
      "Non-trainable params: 192\n",
      "_________________________________________________________________\n",
      "Epoch 1/40\n",
      "55/55 [==============================] - 2s 27ms/step - loss: 2.2284 - accuracy: 0.2593 - val_loss: 2.1348 - val_accuracy: 0.2507\n",
      "Epoch 2/40\n",
      "55/55 [==============================] - 1s 22ms/step - loss: 1.6588 - accuracy: 0.4279 - val_loss: 2.1364 - val_accuracy: 0.2673\n",
      "Epoch 3/40\n",
      "55/55 [==============================] - 1s 21ms/step - loss: 1.4710 - accuracy: 0.4817 - val_loss: 2.7537 - val_accuracy: 0.2350\n",
      "Epoch 4/40\n",
      "55/55 [==============================] - 1s 21ms/step - loss: 1.3686 - accuracy: 0.5137 - val_loss: 2.5969 - val_accuracy: 0.2513\n",
      "Epoch 5/40\n",
      "55/55 [==============================] - 1s 22ms/step - loss: 1.2750 - accuracy: 0.5494 - val_loss: 2.5821 - val_accuracy: 0.2847\n",
      "Epoch 6/40\n",
      "55/55 [==============================] - 1s 21ms/step - loss: 1.2126 - accuracy: 0.5673 - val_loss: 2.3861 - val_accuracy: 0.3593\n",
      "Epoch 7/40\n",
      "55/55 [==============================] - 1s 21ms/step - loss: 1.1869 - accuracy: 0.5796 - val_loss: 2.0562 - val_accuracy: 0.3827\n",
      "Epoch 8/40\n",
      "55/55 [==============================] - 1s 21ms/step - loss: 1.1371 - accuracy: 0.5910 - val_loss: 2.6659 - val_accuracy: 0.3660\n",
      "Epoch 9/40\n",
      "55/55 [==============================] - 1s 21ms/step - loss: 1.1259 - accuracy: 0.5967 - val_loss: 2.2556 - val_accuracy: 0.3677\n",
      "Epoch 10/40\n",
      "55/55 [==============================] - 1s 21ms/step - loss: 1.0847 - accuracy: 0.6100 - val_loss: 1.0877 - val_accuracy: 0.6230\n",
      "Epoch 11/40\n",
      "55/55 [==============================] - 1s 22ms/step - loss: 1.0466 - accuracy: 0.6299 - val_loss: 1.4713 - val_accuracy: 0.5187\n",
      "Epoch 12/40\n",
      "55/55 [==============================] - 1s 21ms/step - loss: 1.0180 - accuracy: 0.6406 - val_loss: 1.2324 - val_accuracy: 0.5723\n",
      "Epoch 13/40\n",
      "55/55 [==============================] - 1s 21ms/step - loss: 0.9954 - accuracy: 0.6454 - val_loss: 1.7863 - val_accuracy: 0.4637\n",
      "Epoch 14/40\n",
      "55/55 [==============================] - 1s 21ms/step - loss: 0.9820 - accuracy: 0.6559 - val_loss: 1.2907 - val_accuracy: 0.5710\n",
      "Epoch 15/40\n",
      "55/55 [==============================] - 1s 21ms/step - loss: 0.9662 - accuracy: 0.6587 - val_loss: 1.4370 - val_accuracy: 0.5320\n",
      "Epoch 16/40\n",
      "55/55 [==============================] - 1s 21ms/step - loss: 0.9327 - accuracy: 0.6716 - val_loss: 1.2904 - val_accuracy: 0.5780\n",
      "Epoch 17/40\n",
      "55/55 [==============================] - 1s 21ms/step - loss: 0.9167 - accuracy: 0.6746 - val_loss: 1.2026 - val_accuracy: 0.6070\n",
      "Epoch 18/40\n",
      "55/55 [==============================] - 1s 21ms/step - loss: 0.9022 - accuracy: 0.6806 - val_loss: 0.9625 - val_accuracy: 0.6720\n",
      "Epoch 19/40\n",
      "55/55 [==============================] - 1s 21ms/step - loss: 0.8759 - accuracy: 0.6866 - val_loss: 1.0250 - val_accuracy: 0.6577\n",
      "Epoch 20/40\n",
      "55/55 [==============================] - 1s 21ms/step - loss: 0.8728 - accuracy: 0.6826 - val_loss: 1.0079 - val_accuracy: 0.6473\n",
      "Epoch 21/40\n",
      "55/55 [==============================] - 1s 22ms/step - loss: 0.8509 - accuracy: 0.7009 - val_loss: 1.3544 - val_accuracy: 0.6203\n",
      "Epoch 22/40\n",
      "55/55 [==============================] - 1s 22ms/step - loss: 0.8382 - accuracy: 0.6973 - val_loss: 1.1625 - val_accuracy: 0.6230\n",
      "Epoch 23/40\n",
      "55/55 [==============================] - 1s 21ms/step - loss: 0.8204 - accuracy: 0.7043 - val_loss: 1.7466 - val_accuracy: 0.4940\n",
      "Epoch 24/40\n",
      "55/55 [==============================] - 1s 22ms/step - loss: 0.8033 - accuracy: 0.7126 - val_loss: 1.0823 - val_accuracy: 0.6460\n",
      "Epoch 25/40\n",
      "55/55 [==============================] - 1s 22ms/step - loss: 0.7956 - accuracy: 0.7161 - val_loss: 1.1394 - val_accuracy: 0.6217\n",
      "Epoch 26/40\n",
      "55/55 [==============================] - 1s 21ms/step - loss: 0.7781 - accuracy: 0.7296 - val_loss: 1.2659 - val_accuracy: 0.6147\n",
      "Epoch 27/40\n",
      "55/55 [==============================] - 1s 22ms/step - loss: 0.7480 - accuracy: 0.7359 - val_loss: 0.9613 - val_accuracy: 0.6733\n",
      "Epoch 28/40\n",
      "55/55 [==============================] - 1s 22ms/step - loss: 0.7549 - accuracy: 0.7307 - val_loss: 1.0583 - val_accuracy: 0.6603\n",
      "Epoch 29/40\n",
      "55/55 [==============================] - 1s 21ms/step - loss: 0.7382 - accuracy: 0.7383 - val_loss: 1.3392 - val_accuracy: 0.5953\n",
      "Epoch 30/40\n",
      "55/55 [==============================] - 1s 21ms/step - loss: 0.7218 - accuracy: 0.7471 - val_loss: 1.0708 - val_accuracy: 0.6440\n",
      "Epoch 31/40\n",
      "55/55 [==============================] - 1s 21ms/step - loss: 0.6995 - accuracy: 0.7529 - val_loss: 1.2057 - val_accuracy: 0.6137\n",
      "Epoch 32/40\n",
      "55/55 [==============================] - 1s 21ms/step - loss: 0.6958 - accuracy: 0.7510 - val_loss: 0.9693 - val_accuracy: 0.6790\n",
      "Epoch 33/40\n",
      "55/55 [==============================] - 1s 21ms/step - loss: 0.6734 - accuracy: 0.7576 - val_loss: 0.9893 - val_accuracy: 0.6870\n",
      "Epoch 34/40\n",
      "55/55 [==============================] - 1s 21ms/step - loss: 0.6738 - accuracy: 0.7590 - val_loss: 1.1804 - val_accuracy: 0.6277\n",
      "Epoch 35/40\n",
      "55/55 [==============================] - 1s 21ms/step - loss: 0.6538 - accuracy: 0.7690 - val_loss: 1.6508 - val_accuracy: 0.5317\n",
      "Epoch 36/40\n",
      "55/55 [==============================] - 1s 21ms/step - loss: 0.6333 - accuracy: 0.7801 - val_loss: 1.4670 - val_accuracy: 0.5703\n",
      "Epoch 37/40\n",
      "55/55 [==============================] - 1s 21ms/step - loss: 0.6260 - accuracy: 0.7773 - val_loss: 1.9358 - val_accuracy: 0.4980\n",
      "Epoch 38/40\n",
      "55/55 [==============================] - 1s 21ms/step - loss: 0.6020 - accuracy: 0.7819 - val_loss: 2.0817 - val_accuracy: 0.4900\n",
      "Epoch 39/40\n",
      "55/55 [==============================] - 1s 21ms/step - loss: 0.6039 - accuracy: 0.7900 - val_loss: 1.4223 - val_accuracy: 0.6300\n",
      "Epoch 40/40\n",
      "55/55 [==============================] - 1s 21ms/step - loss: 0.6048 - accuracy: 0.7886 - val_loss: 1.0508 - val_accuracy: 0.6743\n",
      "Test loss: 1.0475503206253052 / Test accuracy: 0.6725000143051147\n"
     ]
    },
    {
     "data": {
      "image/png": "[encoded data removed]",
      "text/plain": [
       "<Figure size 432x288 with 1 Axes>"
      ]
     },
     "metadata": {
      "needs_background": "light"
     },
     "output_type": "display_data"
    }
   ],
   "source": [
    "import tensorflow as tf\n",
    "# Create the model\n",
    "model = Sequential()\n",
    "model.add(Conv3D(32, kernel_size=(3, 3, 3), activation='relu', kernel_initializer='he_uniform', input_shape=sample_shape))\n",
    "model.add(MaxPooling3D(pool_size=(2, 2, 2)))\n",
    "model.add(BatchNormalization(center=True, scale=True))\n",
    "model.add(Dropout(0.5))\n",
    "model.add(Conv3D(64, kernel_size=(3, 3, 3), activation='relu', kernel_initializer='he_uniform'))\n",
    "model.add(MaxPooling3D(pool_size=(2, 2, 2)))\n",
    "model.add(BatchNormalization(center=True, scale=True))\n",
    "model.add(Dropout(0.5))\n",
    "model.add(Flatten())\n",
    "model.add(Dense(256, activation='relu', kernel_initializer='he_uniform'))\n",
    "model.add(Dense(256, activation='relu', kernel_initializer='he_uniform'))\n",
    "model.add(Dense(10, activation='softmax'))\n",
    "\n",
    "# Compile the model\n",
    "model.compile(loss='categorical_crossentropy',\n",
    "              optimizer=tf.keras.optimizers.Adam(learning_rate=0.001),\n",
    "              metrics=['accuracy'])\n",
    "model.summary()\n",
    "# Fit data to model\n",
    "history = model.fit(X_train, targets_train,\n",
    "            batch_size=128,\n",
    "            epochs=40,\n",
    "            verbose=1,\n",
    "            validation_split=0.3)\n",
    "\n",
    "# Generate generalization metrics\n",
    "score = model.evaluate(X_test, targets_test, verbose=0)\n",
    "print(f'Test loss: {score[0]} / Test accuracy: {score[1]}')\n",
    "\n",
    "# Plot history: Categorical crossentropy & Accuracy\n",
    "plt.plot(history.history['loss'], label='Categorical crossentropy (training data)')\n",
    "plt.plot(history.history['val_loss'], label='Categorical crossentropy (validation data)')\n",
    "plt.plot(history.history['accuracy'], label='Accuracy (training data)')\n",
    "plt.plot(history.history['val_accuracy'], label='Accuracy (validation data)')\n",
    "plt.title('Model performance for 3D MNIST Keras Conv3D example')\n",
    "plt.ylabel('Loss value')\n",
    "plt.xlabel('No. epoch')\n",
    "plt.legend(loc=\"upper left\")\n",
    "plt.show()"
   ]
  },
  {
   "cell_type": "code",
   "execution_count": 29,
   "id": "550404ae",
   "metadata": {},
   "outputs": [
    {
     "data": {
      "text/plain": [
       "{'loss': [2.2723522186279297,\n",
       "  1.696338415145874,\n",
       "  1.4754811525344849,\n",
       "  1.3574767112731934,\n",
       "  1.2777910232543945,\n",
       "  1.222347617149353,\n",
       "  1.186224341392517,\n",
       "  1.148717999458313,\n",
       "  1.1164647340774536,\n",
       "  1.0831745862960815,\n",
       "  1.0733846426010132,\n",
       "  1.0247550010681152,\n",
       "  0.9938010573387146,\n",
       "  0.9937345385551453,\n",
       "  0.9805998206138611,\n",
       "  0.9416717290878296,\n",
       "  0.927560031414032,\n",
       "  0.912418782711029,\n",
       "  0.8987888097763062,\n",
       "  0.8650848269462585,\n",
       "  0.8609316349029541,\n",
       "  0.8433175086975098,\n",
       "  0.8443678617477417,\n",
       "  0.8077061772346497,\n",
       "  0.7948920130729675,\n",
       "  0.7892321944236755,\n",
       "  0.7574119567871094,\n",
       "  0.7440272569656372,\n",
       "  0.7361244559288025,\n",
       "  0.7141234874725342,\n",
       "  0.7127839922904968,\n",
       "  0.6909706592559814,\n",
       "  0.688927412033081,\n",
       "  0.6691833138465881,\n",
       "  0.6658908128738403,\n",
       "  0.6405810117721558,\n",
       "  0.6332257986068726,\n",
       "  0.6358920931816101,\n",
       "  0.6021299362182617,\n",
       "  0.597805380821228],\n",
       " 'accuracy': [0.24285714328289032,\n",
       "  0.40799999237060547,\n",
       "  0.48257142305374146,\n",
       "  0.5180000066757202,\n",
       "  0.5455714464187622,\n",
       "  0.5662857294082642,\n",
       "  0.5788571238517761,\n",
       "  0.5917142629623413,\n",
       "  0.5998571515083313,\n",
       "  0.6091428399085999,\n",
       "  0.6129999756813049,\n",
       "  0.6295714378356934,\n",
       "  0.6434285640716553,\n",
       "  0.6504285931587219,\n",
       "  0.6424285769462585,\n",
       "  0.6662856936454773,\n",
       "  0.6722857356071472,\n",
       "  0.680142879486084,\n",
       "  0.6800000071525574,\n",
       "  0.6975714564323425,\n",
       "  0.6878571510314941,\n",
       "  0.6980000138282776,\n",
       "  0.7022857069969177,\n",
       "  0.7144285440444946,\n",
       "  0.7191428542137146,\n",
       "  0.7191428542137146,\n",
       "  0.7310000061988831,\n",
       "  0.7351428866386414,\n",
       "  0.7384285926818848,\n",
       "  0.7477142810821533,\n",
       "  0.7497143149375916,\n",
       "  0.7572857141494751,\n",
       "  0.7591428756713867,\n",
       "  0.7618571519851685,\n",
       "  0.7657142877578735,\n",
       "  0.7732856869697571,\n",
       "  0.775857150554657,\n",
       "  0.7752857208251953,\n",
       "  0.7907142639160156,\n",
       "  0.7855714559555054],\n",
       " 'val_loss': [2.3052797317504883,\n",
       "  2.167957067489624,\n",
       "  3.207106828689575,\n",
       "  3.612699508666992,\n",
       "  3.042426824569702,\n",
       "  2.9263405799865723,\n",
       "  2.5646917819976807,\n",
       "  2.6593270301818848,\n",
       "  2.2201075553894043,\n",
       "  2.6175222396850586,\n",
       "  2.244140625,\n",
       "  1.3542346954345703,\n",
       "  2.122227191925049,\n",
       "  1.8637306690216064,\n",
       "  1.323411226272583,\n",
       "  1.3830903768539429,\n",
       "  1.1948351860046387,\n",
       "  1.1658079624176025,\n",
       "  1.2544286251068115,\n",
       "  1.2726742029190063,\n",
       "  1.0881134271621704,\n",
       "  1.3977009057998657,\n",
       "  1.3753186464309692,\n",
       "  1.3092138767242432,\n",
       "  1.0260138511657715,\n",
       "  1.0321028232574463,\n",
       "  1.0766346454620361,\n",
       "  1.7981209754943848,\n",
       "  2.0589756965637207,\n",
       "  1.2376996278762817,\n",
       "  1.810290813446045,\n",
       "  1.321317195892334,\n",
       "  1.3980931043624878,\n",
       "  1.6541097164154053,\n",
       "  1.9724379777908325,\n",
       "  1.364426851272583,\n",
       "  1.0877236127853394,\n",
       "  1.1882635354995728,\n",
       "  1.8818150758743286,\n",
       "  0.9977419972419739],\n",
       " 'val_accuracy': [0.2603333294391632,\n",
       "  0.20133332908153534,\n",
       "  0.23633334040641785,\n",
       "  0.17133332788944244,\n",
       "  0.29733332991600037,\n",
       "  0.31166666746139526,\n",
       "  0.35333332419395447,\n",
       "  0.3226666748523712,\n",
       "  0.38733333349227905,\n",
       "  0.33533334732055664,\n",
       "  0.4116666615009308,\n",
       "  0.5523333549499512,\n",
       "  0.4050000011920929,\n",
       "  0.46299999952316284,\n",
       "  0.5426666736602783,\n",
       "  0.5519999861717224,\n",
       "  0.5996666550636292,\n",
       "  0.5870000123977661,\n",
       "  0.5803333520889282,\n",
       "  0.5633333325386047,\n",
       "  0.6333333253860474,\n",
       "  0.5709999799728394,\n",
       "  0.5513333082199097,\n",
       "  0.5753333568572998,\n",
       "  0.6446666717529297,\n",
       "  0.6579999923706055,\n",
       "  0.6629999876022339,\n",
       "  0.49566665291786194,\n",
       "  0.4736666679382324,\n",
       "  0.628000020980835,\n",
       "  0.5009999871253967,\n",
       "  0.5669999718666077,\n",
       "  0.5740000009536743,\n",
       "  0.5286666750907898,\n",
       "  0.5633333325386047,\n",
       "  0.6203333139419556,\n",
       "  0.6566666960716248,\n",
       "  0.6506666541099548,\n",
       "  0.5090000033378601,\n",
       "  0.687666654586792]}"
      ]
     },
     "execution_count": 29,
     "metadata": {},
     "output_type": "execute_result"
    }
   ],
   "source": [
    "history.history"
   ]
  },
  {
   "cell_type": "code",
   "execution_count": 41,
   "id": "b9fa40d4",
   "metadata": {},
   "outputs": [
    {
     "name": "stdout",
     "output_type": "stream",
     "text": [
      "accuracy score: 0.6725\n"
     ]
    },
    {
     "data": {
      "image/png": "[encoded data removed]",
      "text/plain": [
       "<Figure size 576x576 with 2 Axes>"
      ]
     },
     "metadata": {
      "needs_background": "light"
     },
     "output_type": "display_data"
    }
   ],
   "source": [
    "from sklearn.metrics import confusion_matrix, accuracy_score\n",
    "from matplotlib.pyplot import cm\n",
    "import pandas as pd\n",
    "import seaborn as sns\n",
    "def plot_confusion_matrix(model_name):\n",
    "    # Predict the values from the validation dataset\n",
    "    y_pred = model_name.predict(X_test)\n",
    "    # Because Y_pred is an array of probabilities, we have to convert it to one hot vectors \n",
    "    y_pred = np.argmax(y_pred,axis = 1)\n",
    "    y_test = np.argmax(targets_test,axis=1)\n",
    "    #Compute and print the accuracy scores:\n",
    "    print('accuracy score:', accuracy_score(y_test,y_pred))\n",
    "    # compute the confusion matrix \n",
    "    # By definition a confusion matrix C is such that C_i,j is equal to the number of observations known to be in group i but predicted to be in group j.\n",
    "    cm = confusion_matrix(y_test, y_pred)\n",
    "    cm = pd.DataFrame(cm, index = range(10), columns = range(10))\n",
    "    # plot the confusion matrix\n",
    "    plt.figure(figsize=(8,8))\n",
    "    sns.heatmap(cm, cmap=\"Reds\", annot=True, fmt='.0f')\n",
    "    plt.ylabel('True label')\n",
    "    plt.xlabel('Predicted label')\n",
    "    plt.show()\n",
    "    return\n",
    "\n",
    "plot_confusion_matrix(model)"
   ]
  },
  {
   "cell_type": "code",
   "execution_count": null,
   "id": "58352037",
   "metadata": {},
   "outputs": [],
   "source": []
  }
 ],
 "metadata": {
  "kernelspec": {
   "display_name": "Python 3",
   "language": "python",
   "name": "python3"
  },
  "language_info": {
   "codemirror_mode": {
    "name": "ipython",
    "version": 3
   },
   "file_extension": ".py",
   "mimetype": "text/x-python",
   "name": "python",
   "nbconvert_exporter": "python",
   "pygments_lexer": "ipython3",
   "version": "3.6.13"
  }
 },
 "nbformat": 4,
 "nbformat_minor": 5
}
