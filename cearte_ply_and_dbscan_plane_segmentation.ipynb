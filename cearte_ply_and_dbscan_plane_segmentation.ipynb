{
 "cells": [
  {
   "cell_type": "code",
   "execution_count": 1,
   "id": "7e4481d6",
   "metadata": {},
   "outputs": [],
   "source": [
    "import numpy as np\n",
    "import matplotlib.pyplot as plt\n",
    "from mpl_toolkits import mplot3d\n",
    "from sklearn.cluster import KMeans\n",
    "from sklearn.cluster import DBSCAN"
   ]
  },
  {
   "cell_type": "code",
   "execution_count": 2,
   "id": "f602fd6a",
   "metadata": {},
   "outputs": [],
   "source": [
    "import pandas as pd"
   ]
  },
  {
   "cell_type": "code",
   "execution_count": 3,
   "id": "61fbb8b1",
   "metadata": {},
   "outputs": [],
   "source": [
    "dataset = pd.read_csv('test_new.csv')"
   ]
  },
  {
   "cell_type": "code",
   "execution_count": 4,
   "id": "bd1cc542",
   "metadata": {},
   "outputs": [
    {
     "data": {
      "text/html": [
       "<div>\n",
       "<style scoped>\n",
       "    .dataframe tbody tr th:only-of-type {\n",
       "        vertical-align: middle;\n",
       "    }\n",
       "\n",
       "    .dataframe tbody tr th {\n",
       "        vertical-align: top;\n",
       "    }\n",
       "\n",
       "    .dataframe thead th {\n",
       "        text-align: right;\n",
       "    }\n",
       "</style>\n",
       "<table border=\"1\" class=\"dataframe\">\n",
       "  <thead>\n",
       "    <tr style=\"text-align: right;\">\n",
       "      <th></th>\n",
       "      <th>Red</th>\n",
       "      <th>Green</th>\n",
       "      <th>Blue</th>\n",
       "      <th>X</th>\n",
       "      <th>Y</th>\n",
       "      <th>Z</th>\n",
       "      <th>Classification</th>\n",
       "      <th>Intensity</th>\n",
       "    </tr>\n",
       "  </thead>\n",
       "  <tbody>\n",
       "    <tr>\n",
       "      <th>0</th>\n",
       "      <td>81</td>\n",
       "      <td>84</td>\n",
       "      <td>94</td>\n",
       "      <td>716000.508</td>\n",
       "      <td>935999.281</td>\n",
       "      <td>10.609</td>\n",
       "      <td>3</td>\n",
       "      <td>0.0</td>\n",
       "    </tr>\n",
       "    <tr>\n",
       "      <th>1</th>\n",
       "      <td>67</td>\n",
       "      <td>65</td>\n",
       "      <td>87</td>\n",
       "      <td>716000.082</td>\n",
       "      <td>935999.061</td>\n",
       "      <td>11.248</td>\n",
       "      <td>3</td>\n",
       "      <td>0.0</td>\n",
       "    </tr>\n",
       "    <tr>\n",
       "      <th>2</th>\n",
       "      <td>62</td>\n",
       "      <td>61</td>\n",
       "      <td>81</td>\n",
       "      <td>716000.252</td>\n",
       "      <td>935998.521</td>\n",
       "      <td>4.348</td>\n",
       "      <td>3</td>\n",
       "      <td>0.0</td>\n",
       "    </tr>\n",
       "    <tr>\n",
       "      <th>3</th>\n",
       "      <td>67</td>\n",
       "      <td>65</td>\n",
       "      <td>87</td>\n",
       "      <td>716000.139</td>\n",
       "      <td>935998.958</td>\n",
       "      <td>9.781</td>\n",
       "      <td>3</td>\n",
       "      <td>0.0</td>\n",
       "    </tr>\n",
       "    <tr>\n",
       "      <th>4</th>\n",
       "      <td>57</td>\n",
       "      <td>60</td>\n",
       "      <td>81</td>\n",
       "      <td>716000.552</td>\n",
       "      <td>935997.671</td>\n",
       "      <td>6.868</td>\n",
       "      <td>3</td>\n",
       "      <td>0.0</td>\n",
       "    </tr>\n",
       "    <tr>\n",
       "      <th>...</th>\n",
       "      <td>...</td>\n",
       "      <td>...</td>\n",
       "      <td>...</td>\n",
       "      <td>...</td>\n",
       "      <td>...</td>\n",
       "      <td>...</td>\n",
       "      <td>...</td>\n",
       "      <td>...</td>\n",
       "    </tr>\n",
       "    <tr>\n",
       "      <th>95</th>\n",
       "      <td>129</td>\n",
       "      <td>126</td>\n",
       "      <td>103</td>\n",
       "      <td>716001.252</td>\n",
       "      <td>935995.562</td>\n",
       "      <td>11.192</td>\n",
       "      <td>3</td>\n",
       "      <td>0.0</td>\n",
       "    </tr>\n",
       "    <tr>\n",
       "      <th>96</th>\n",
       "      <td>92</td>\n",
       "      <td>90</td>\n",
       "      <td>89</td>\n",
       "      <td>716001.559</td>\n",
       "      <td>935995.748</td>\n",
       "      <td>10.971</td>\n",
       "      <td>3</td>\n",
       "      <td>0.0</td>\n",
       "    </tr>\n",
       "    <tr>\n",
       "      <th>97</th>\n",
       "      <td>123</td>\n",
       "      <td>122</td>\n",
       "      <td>109</td>\n",
       "      <td>716001.299</td>\n",
       "      <td>935995.468</td>\n",
       "      <td>9.811</td>\n",
       "      <td>3</td>\n",
       "      <td>0.0</td>\n",
       "    </tr>\n",
       "    <tr>\n",
       "      <th>98</th>\n",
       "      <td>137</td>\n",
       "      <td>123</td>\n",
       "      <td>121</td>\n",
       "      <td>716004.259</td>\n",
       "      <td>935997.539</td>\n",
       "      <td>10.559</td>\n",
       "      <td>3</td>\n",
       "      <td>0.0</td>\n",
       "    </tr>\n",
       "    <tr>\n",
       "      <th>99</th>\n",
       "      <td>106</td>\n",
       "      <td>110</td>\n",
       "      <td>99</td>\n",
       "      <td>716001.028</td>\n",
       "      <td>935995.281</td>\n",
       "      <td>9.779</td>\n",
       "      <td>3</td>\n",
       "      <td>0.0</td>\n",
       "    </tr>\n",
       "  </tbody>\n",
       "</table>\n",
       "<p>100 rows × 8 columns</p>\n",
       "</div>"
      ],
      "text/plain": [
       "    Red  Green  Blue           X           Y       Z  Classification  \\\n",
       "0    81     84    94  716000.508  935999.281  10.609               3   \n",
       "1    67     65    87  716000.082  935999.061  11.248               3   \n",
       "2    62     61    81  716000.252  935998.521   4.348               3   \n",
       "3    67     65    87  716000.139  935998.958   9.781               3   \n",
       "4    57     60    81  716000.552  935997.671   6.868               3   \n",
       "..  ...    ...   ...         ...         ...     ...             ...   \n",
       "95  129    126   103  716001.252  935995.562  11.192               3   \n",
       "96   92     90    89  716001.559  935995.748  10.971               3   \n",
       "97  123    122   109  716001.299  935995.468   9.811               3   \n",
       "98  137    123   121  716004.259  935997.539  10.559               3   \n",
       "99  106    110    99  716001.028  935995.281   9.779               3   \n",
       "\n",
       "    Intensity  \n",
       "0         0.0  \n",
       "1         0.0  \n",
       "2         0.0  \n",
       "3         0.0  \n",
       "4         0.0  \n",
       "..        ...  \n",
       "95        0.0  \n",
       "96        0.0  \n",
       "97        0.0  \n",
       "98        0.0  \n",
       "99        0.0  \n",
       "\n",
       "[100 rows x 8 columns]"
      ]
     },
     "execution_count": 4,
     "metadata": {},
     "output_type": "execute_result"
    }
   ],
   "source": [
    "dataset.head(100)"
   ]
  },
  {
   "cell_type": "code",
   "execution_count": 5,
   "id": "a3fe64d6",
   "metadata": {},
   "outputs": [],
   "source": [
    "x = np.array(dataset['X'])\n",
    "y = np.array(dataset['Y'])\n",
    "z = np.array(dataset['Z'])\n",
    "r = np.array(dataset['Red'])\n",
    "g = np.array(dataset['Green'])\n",
    "b = np.array(dataset['Blue'])"
   ]
  },
  {
   "cell_type": "code",
   "execution_count": 6,
   "id": "589d565c",
   "metadata": {},
   "outputs": [
    {
     "data": {
      "text/plain": [
       "(4372631,)"
      ]
     },
     "execution_count": 6,
     "metadata": {},
     "output_type": "execute_result"
    }
   ],
   "source": [
    "x.shape"
   ]
  },
  {
   "cell_type": "code",
   "execution_count": 7,
   "id": "877e5d26",
   "metadata": {},
   "outputs": [
    {
     "data": {
      "text/plain": [
       "(4372631,)"
      ]
     },
     "execution_count": 7,
     "metadata": {},
     "output_type": "execute_result"
    }
   ],
   "source": [
    "y.shape"
   ]
  },
  {
   "cell_type": "code",
   "execution_count": 16,
   "id": "13135670",
   "metadata": {},
   "outputs": [
    {
     "data": {
      "text/plain": [
       "(4372631,)"
      ]
     },
     "execution_count": 16,
     "metadata": {},
     "output_type": "execute_result"
    }
   ],
   "source": [
    "z.shape"
   ]
  },
  {
   "cell_type": "code",
   "execution_count": 18,
   "id": "15eecc1d",
   "metadata": {},
   "outputs": [],
   "source": [
    "\n",
    "import pandas as pd\n",
    "from pyntcloud import PyntCloud\n"
   ]
  },
  {
   "cell_type": "code",
   "execution_count": 19,
   "id": "6fd0feef",
   "metadata": {},
   "outputs": [],
   "source": [
    "data = {'x': x,\n",
    "            'y': y,\n",
    "            'z': z,\n",
    "            'red': r,\n",
    "            'blue': g,\n",
    "            'green': b\n",
    "            }"
   ]
  },
  {
   "cell_type": "code",
   "execution_count": 20,
   "id": "a1209be8",
   "metadata": {},
   "outputs": [],
   "source": [
    "import open3d as o3d"
   ]
  },
  {
   "cell_type": "code",
   "execution_count": 21,
   "id": "56285d3b",
   "metadata": {},
   "outputs": [
    {
     "data": {
      "text/plain": [
       "{'x': array([716000.508, 716000.082, 716000.252, ..., 716859.13 , 716695.34 ,\n",
       "        716816.47 ]),\n",
       " 'y': array([935999.281, 935999.061, 935998.521, ..., 935989.45 , 935956.81 ,\n",
       "        935943.53 ]),\n",
       " 'z': array([10.609, 11.248,  4.348, ...,  2.91 ,  2.57 ,  2.17 ]),\n",
       " 'red': array([ 81,  67,  62, ..., 126,  30, 131], dtype=int64),\n",
       " 'blue': array([ 84,  65,  61, ..., 114,  26, 109], dtype=int64),\n",
       " 'green': array([ 94,  87,  81, ..., 110,  60, 118], dtype=int64)}"
      ]
     },
     "execution_count": 21,
     "metadata": {},
     "output_type": "execute_result"
    }
   ],
   "source": [
    "data"
   ]
  },
  {
   "cell_type": "code",
   "execution_count": 22,
   "id": "13bab09a",
   "metadata": {},
   "outputs": [],
   "source": [
    "cloud = PyntCloud(pd.DataFrame(data))\n"
   ]
  },
  {
   "cell_type": "code",
   "execution_count": 24,
   "id": "eaf5b90c",
   "metadata": {},
   "outputs": [],
   "source": [
    "cloud.to_file('my_pts2.ply')"
   ]
  },
  {
   "cell_type": "code",
   "execution_count": 25,
   "id": "af17b195",
   "metadata": {},
   "outputs": [],
   "source": [
    "cloud = PyntCloud.from_file('my_pts2.ply')"
   ]
  },
  {
   "cell_type": "code",
   "execution_count": 28,
   "id": "077aade6",
   "metadata": {},
   "outputs": [
    {
     "data": {
      "text/plain": [
       "array([[7.1600050e+05, 9.3599925e+05, 1.0609000e+01],\n",
       "       [0.0000000e+00, 1.3172206e-43, 0.0000000e+00],\n",
       "       [9.3886997e-44, 0.0000000e+00, 9.1084400e-44],\n",
       "       ...,\n",
       "       [1.7095841e-43, 0.0000000e+00, 1.3732725e-43],\n",
       "       [7.1688162e+05, 9.3581750e+05, 7.8080001e+00],\n",
       "       [0.0000000e+00, 1.7095841e-43, 0.0000000e+00]], dtype=float32)"
      ]
     },
     "execution_count": 28,
     "metadata": {},
     "output_type": "execute_result"
    }
   ],
   "source": [
    "cloud.xyz"
   ]
  },
  {
   "cell_type": "code",
   "execution_count": 20,
   "id": "02c814b4",
   "metadata": {},
   "outputs": [
    {
     "name": "stdout",
     "output_type": "stream",
     "text": [
      "Paint the 1500th point red.\n"
     ]
    }
   ],
   "source": [
    "print(\"Paint the 1500th point red.\")\n",
    "pcd.colors[150] = [1, 0, 0]"
   ]
  },
  {
   "cell_type": "code",
   "execution_count": 22,
   "id": "f0ace137",
   "metadata": {},
   "outputs": [
    {
     "name": "stdout",
     "output_type": "stream",
     "text": [
      "Find its 200 nearest neighbors, and paint them blue.\n"
     ]
    }
   ],
   "source": [
    "print(\"Find its 200 nearest neighbors, and paint them blue.\")\n",
    "[k, idx, _] = pcd_tree.search_knn_vector_3d(pcd.points[150], 200)\n",
    "np.asarray(pcd.colors)[idx[1:], :] = [0, 0, 1]"
   ]
  },
  {
   "cell_type": "code",
   "execution_count": 23,
   "id": "3cefc3c5",
   "metadata": {},
   "outputs": [
    {
     "name": "stdout",
     "output_type": "stream",
     "text": [
      "Find its neighbors with distance less than 0.2, and paint them green.\n"
     ]
    }
   ],
   "source": [
    "print(\"Find its neighbors with distance less than 0.2, and paint them green.\")\n",
    "[k, idx, _] = pcd_tree.search_radius_vector_3d(pcd.points[1500], 0.2)\n",
    "np.asarray(pcd.colors)[idx[1:], :] = [0, 1, 0]"
   ]
  },
  {
   "cell_type": "code",
   "execution_count": 24,
   "id": "74ada030",
   "metadata": {},
   "outputs": [
    {
     "name": "stdout",
     "output_type": "stream",
     "text": [
      "Visualize the point cloud.\n"
     ]
    }
   ],
   "source": [
    "print(\"Visualize the point cloud.\")\n",
    "o3d.visualization.draw_geometries([pcd])"
   ]
  },
  {
   "cell_type": "code",
   "execution_count": 5,
   "id": "e1554b41",
   "metadata": {},
   "outputs": [
    {
     "name": "stdout",
     "output_type": "stream",
     "text": [
      "PointCloud with 4372631 points.\n",
      "Displaying axis_aligned_bounding_box in red and oriented bounding box in green ...\n"
     ]
    }
   ],
   "source": [
    "%matplotlib inline\n",
    "import open3d as o3d\n",
    "#o3d.visualization.webrtc_server.enable_webrtc()\n",
    "if __name__ == \"__main__\":\n",
    "    sample_ply_data = o3d.data.PLYPointCloud()\n",
    "    pcd = o3d.io.read_point_cloud(\"test_new_pcd.ply\")\n",
    "    # Flip it, otherwise the pointcloud will be upside down.\n",
    "    pcd.transform([[1, 0, 0, 0], [0, -1, 0, 0], [0, 0, -1, 0], [0, 0, 0, 1]])\n",
    "    print(pcd)\n",
    "    axis_aligned_bounding_box = pcd.get_axis_aligned_bounding_box()\n",
    "    axis_aligned_bounding_box.color = (1, 0, 0)\n",
    "    oriented_bounding_box = pcd.get_oriented_bounding_box()\n",
    "    oriented_bounding_box.color = (0, 1, 0)\n",
    "    print(\n",
    "        \"Displaying axis_aligned_bounding_box in red and oriented bounding box in green ...\"\n",
    "    )\n",
    "    o3d.visualization.draw_geometries(\n",
    "        [pcd, axis_aligned_bounding_box, oriented_bounding_box])"
   ]
  },
  {
   "cell_type": "code",
   "execution_count": 28,
   "id": "90837034",
   "metadata": {},
   "outputs": [
    {
     "name": "stdout",
     "output_type": "stream",
     "text": [
      "[Open3D DEBUG] Precompute neighbors.\n",
      "[Open3D DEBUG] Done Precompute neighbors.\n",
      "[Open3D DEBUG] Compute Clusters\n",
      "[Open3D DEBUG] Done Compute Clusters: 85355\n",
      "point cloud has 85355 clusters\n"
     ]
    }
   ],
   "source": [
    "import open3d as o3d\n",
    "import numpy as np\n",
    "import matplotlib.pyplot as plt\n",
    "\n",
    "if __name__ == \"__main__\":\n",
    "    sample_ply_data = o3d.data.PLYPointCloud()\n",
    "    pcd = o3d.io.read_point_cloud(\"test_new_pcd.ply\")\n",
    "    # Flip it, otherwise the pointcloud will be upside down.\n",
    "    pcd.transform([[1, 0, 0, 0], [0, -1, 0, 0], [0, 0, -1, 0], [0, 0, 0, 1]])\n",
    "\n",
    "    with o3d.utility.VerbosityContextManager(\n",
    "            o3d.utility.VerbosityLevel.Debug) as cm:\n",
    "        labels = np.array(\n",
    "            pcd.cluster_dbscan(eps=0.5, min_points=5, print_progress=True))\n",
    "\n",
    "    max_label = labels.max()\n",
    "    print(f\"point cloud has {max_label + 1} clusters\")\n",
    "    colors = plt.get_cmap(\"tab20\")(labels / (max_label if max_label > 0 else 1))\n",
    "    colors[labels < 0] = 0\n",
    "    pcd.colors = o3d.utility.Vector3dVector(colors[:, :3])\n",
    "    #o3d.visualization.webrtc_server.enable_webrtc()\n",
    "    o3d.visualization.draw_geometries([pcd])\n",
    "    #o3d.visualization.webrtc_server.enable_webrtc()"
   ]
  },
  {
   "cell_type": "code",
   "execution_count": 14,
   "id": "89644c4f",
   "metadata": {},
   "outputs": [
    {
     "name": "stdout",
     "output_type": "stream",
     "text": [
      "Plane equation: -0.00x + -0.01y + 1.00z + 10564.32 = 0\n"
     ]
    }
   ],
   "source": [
    "pcd = o3d.io.read_point_cloud(\"test_new_pcd.ply\")\n",
    "plane_model, inliers = pcd.segment_plane(distance_threshold=1,\n",
    "                                         ransac_n=3,\n",
    "                                         num_iterations=1000)\n",
    "[a, b, c, d] = plane_model\n",
    "print(f\"Plane equation: {a:.2f}x + {b:.2f}y + {c:.2f}z + {d:.2f} = 0\")\n",
    "\n",
    "inlier_cloud = pcd.select_by_index(inliers)\n",
    "inlier_cloud.paint_uniform_color([1.0, 0, 0])\n",
    "outlier_cloud = pcd.select_by_index(inliers, invert=True)\n",
    "o3d.visualization.draw_geometries([inlier_cloud, outlier_cloud])"
   ]
  },
  {
   "cell_type": "code",
   "execution_count": null,
   "id": "8ad36861",
   "metadata": {},
   "outputs": [],
   "source": []
  }
 ],
 "metadata": {
  "kernelspec": {
   "display_name": "Python 3 (ipykernel)",
   "language": "python",
   "name": "python3"
  },
  "language_info": {
   "codemirror_mode": {
    "name": "ipython",
    "version": 3
   },
   "file_extension": ".py",
   "mimetype": "text/x-python",
   "name": "python",
   "nbconvert_exporter": "python",
   "pygments_lexer": "ipython3",
   "version": "3.7.16"
  }
 },
 "nbformat": 4,
 "nbformat_minor": 5
}
